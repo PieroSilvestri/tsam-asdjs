{
 "metadata": {
  "name": "",
  "signature": "sha256:db4d6329236f08372e7d47647440b1ae5e31fb9748e2d9588d802a999440afa8"
 },
 "nbformat": 3,
 "nbformat_minor": 0,
 "worksheets": [
  {
   "cells": [
    {
     "cell_type": "markdown",
     "metadata": {},
     "source": [
      " # Compiti per casa \n",
      " ###Esercizi mancanti:\n",
      " #### Es 3 ricorsivo\n",
      " #### Es 7 iterativo\n",
      " #### Es 8 iterativo\n",
      " #### Es 9 ricorsivo\n",
      " #### Es 10 ricorsivo\n",
      " #### Es 11 ricorsivo"
     ]
    },
    {
     "cell_type": "markdown",
     "metadata": {},
     "source": [
      "## Funzioni utili"
     ]
    },
    {
     "cell_type": "code",
     "collapsed": false,
     "input": [
      "function sumAll(myArray){\n",
      "    if(myArray.length == 0){\n",
      "        return 0;\n",
      "    }\n",
      "    else{\n",
      "        return myArray[0] + sumAll(myArray.slice(1));\n",
      "    }\n",
      "}"
     ],
     "language": "python",
     "metadata": {},
     "outputs": [],
     "prompt_number": 1
    },
    {
     "cell_type": "markdown",
     "metadata": {},
     "source": [
      "## Esercizio 1"
     ]
    },
    {
     "cell_type": "markdown",
     "metadata": {},
     "source": [
      "### Normale"
     ]
    },
    {
     "cell_type": "code",
     "collapsed": false,
     "input": [
      "function sumAllUntilNegative(myArray){\n",
      "    somma = 0;\n",
      "    for(i = 0; i < myArray.length; i++){\n",
      "        if(myArray[i] < 0){\n",
      "            break;\n",
      "        }\n",
      "        somma = somma + myArray[i];\n",
      "    }\n",
      "    return somma;\n",
      "}"
     ],
     "language": "python",
     "metadata": {},
     "outputs": [],
     "prompt_number": 2
    },
    {
     "cell_type": "code",
     "collapsed": false,
     "input": [
      "sumAllUntilNegative([2,3,4]);"
     ],
     "language": "python",
     "metadata": {},
     "outputs": [],
     "prompt_number": 3
    },
    {
     "cell_type": "markdown",
     "metadata": {},
     "source": [
      "### Ricorsivo"
     ]
    },
    {
     "cell_type": "code",
     "collapsed": false,
     "input": [
      "function sumAllUntilNegativeR(myArray){\n",
      "    if(myArray.length == 0 || myArray[0] == 0){\n",
      "        return 0;\n",
      "    }\n",
      "    else{\n",
      "        return myArray[0] + sumAllUntilNegativeR(myArray.slice(1));\n",
      "    }\n",
      "}"
     ],
     "language": "python",
     "metadata": {},
     "outputs": [],
     "prompt_number": 4
    },
    {
     "cell_type": "code",
     "collapsed": false,
     "input": [
      "sumAllUntilNegativeR([1, 2, 4]);"
     ],
     "language": "python",
     "metadata": {},
     "outputs": [],
     "prompt_number": 5
    },
    {
     "cell_type": "markdown",
     "metadata": {},
     "source": [
      "## Esercizio 2"
     ]
    },
    {
     "cell_type": "markdown",
     "metadata": {},
     "source": [
      "### Normale"
     ]
    },
    {
     "cell_type": "code",
     "collapsed": false,
     "input": [
      "function sumOdd(num){\n",
      "    somma = 0;\n",
      "    for(i = 0; i < num; i++){\n",
      "        somma = somma + (2*i) + 1;\n",
      "    }\n",
      "    return somma;\n",
      "}"
     ],
     "language": "python",
     "metadata": {},
     "outputs": [],
     "prompt_number": 6
    },
    {
     "cell_type": "code",
     "collapsed": false,
     "input": [
      "sumOdd(3);"
     ],
     "language": "python",
     "metadata": {},
     "outputs": [],
     "prompt_number": 7
    },
    {
     "cell_type": "markdown",
     "metadata": {},
     "source": [
      "### Ricorsivo "
     ]
    },
    {
     "cell_type": "code",
     "collapsed": false,
     "input": [
      "function sumOddR(num){\n",
      "    if(num == 0){\n",
      "        return 0;\n",
      "    }\n",
      "    return (2*num-1) + sumOddR(num-1);\n",
      "}"
     ],
     "language": "python",
     "metadata": {},
     "outputs": [],
     "prompt_number": 8
    },
    {
     "cell_type": "code",
     "collapsed": false,
     "input": [
      "sumOddR(6);"
     ],
     "language": "python",
     "metadata": {},
     "outputs": [],
     "prompt_number": 9
    },
    {
     "cell_type": "markdown",
     "metadata": {},
     "source": [
      "## Esercizio 3"
     ]
    },
    {
     "cell_type": "markdown",
     "metadata": {},
     "source": [
      "### Normale"
     ]
    },
    {
     "cell_type": "code",
     "collapsed": false,
     "input": [
      "function average(myArray){\n",
      "    return sumAll(myArray) / myArray.length;\n",
      "}"
     ],
     "language": "python",
     "metadata": {},
     "outputs": [],
     "prompt_number": 10
    },
    {
     "cell_type": "code",
     "collapsed": false,
     "input": [
      "average([2,4,6]);"
     ],
     "language": "python",
     "metadata": {},
     "outputs": [],
     "prompt_number": 11
    },
    {
     "cell_type": "markdown",
     "metadata": {},
     "source": [
      "### Ricorsivo"
     ]
    },
    {
     "cell_type": "code",
     "collapsed": false,
     "input": [
      "function averageR(myArray){\n",
      "    \n",
      "    \n",
      "}"
     ],
     "language": "python",
     "metadata": {},
     "outputs": [],
     "prompt_number": 12
    },
    {
     "cell_type": "markdown",
     "metadata": {},
     "source": [
      "## Esercizio 4"
     ]
    },
    {
     "cell_type": "markdown",
     "metadata": {},
     "source": [
      "### Normale"
     ]
    },
    {
     "cell_type": "code",
     "collapsed": false,
     "input": [
      "function sumInterval(a, b){\n",
      "    somma = 0;\n",
      "    if(a < b){\n",
      "        for(i = a; i <= b; i++){\n",
      "            somma = somma + i;\n",
      "        }\n",
      "    }\n",
      "    else{\n",
      "        for(i = b; i <= a; i++){\n",
      "            somma = somma + i;\n",
      "        }\n",
      "    }\n",
      "    return somma;\n",
      "}"
     ],
     "language": "python",
     "metadata": {},
     "outputs": [],
     "prompt_number": 13
    },
    {
     "cell_type": "code",
     "collapsed": false,
     "input": [
      "sumInterval(3, 5);"
     ],
     "language": "python",
     "metadata": {},
     "outputs": [],
     "prompt_number": 14
    },
    {
     "cell_type": "markdown",
     "metadata": {},
     "source": [
      "### Ricorsivo"
     ]
    },
    {
     "cell_type": "code",
     "collapsed": false,
     "input": [
      "function sumIntervalR(a, b){\n",
      "    if(a < b){\n",
      "        if(b < a || b == a){\n",
      "            return b;\n",
      "        }\n",
      "        else{\n",
      "            return b + sumIntervalR(a, b-1);\n",
      "        }\n",
      "    }\n",
      "    else{\n",
      "        if(b > a || b == a){\n",
      "            return b;\n",
      "        }\n",
      "        else{\n",
      "            return a + sumIntervalR((a-1), b);\n",
      "        }\n",
      "    }\n",
      "}"
     ],
     "language": "python",
     "metadata": {},
     "outputs": [],
     "prompt_number": 15
    },
    {
     "cell_type": "code",
     "collapsed": false,
     "input": [
      "sumIntervalR(3, 5);"
     ],
     "language": "python",
     "metadata": {},
     "outputs": [],
     "prompt_number": 16
    },
    {
     "cell_type": "markdown",
     "metadata": {},
     "source": [
      "## Esercizio 5"
     ]
    },
    {
     "cell_type": "markdown",
     "metadata": {},
     "source": [
      "### Normale"
     ]
    },
    {
     "cell_type": "code",
     "collapsed": false,
     "input": [
      "function mult(a, b){\n",
      "    prodotto = 0;\n",
      "    for(i = 0; i < b; i++){\n",
      "        prodotto = prodotto + a;\n",
      "    }\n",
      "    return prodotto;\n",
      "}"
     ],
     "language": "python",
     "metadata": {},
     "outputs": [],
     "prompt_number": 17
    },
    {
     "cell_type": "code",
     "collapsed": false,
     "input": [
      "mult(2,3);"
     ],
     "language": "python",
     "metadata": {},
     "outputs": [],
     "prompt_number": 18
    },
    {
     "cell_type": "markdown",
     "metadata": {},
     "source": [
      "### Ricorsivo"
     ]
    },
    {
     "cell_type": "code",
     "collapsed": false,
     "input": [
      "function multR(a, b){\n",
      "    if(b == 0){\n",
      "        return 0;\n",
      "    }\n",
      "    else{\n",
      "        return a + multR(a, b-1);\n",
      "    }\n",
      "}"
     ],
     "language": "python",
     "metadata": {},
     "outputs": [],
     "prompt_number": 19
    },
    {
     "cell_type": "code",
     "collapsed": false,
     "input": [
      "multR(2, 3);"
     ],
     "language": "python",
     "metadata": {},
     "outputs": [],
     "prompt_number": 20
    },
    {
     "cell_type": "markdown",
     "metadata": {},
     "source": [
      "## Esercizio 6"
     ]
    },
    {
     "cell_type": "markdown",
     "metadata": {},
     "source": [
      "### Normale"
     ]
    },
    {
     "cell_type": "code",
     "collapsed": false,
     "input": [
      "function div(a, b){\n",
      "    dividendo = a;\n",
      "    divisore = b;\n",
      "    resto = 0;\n",
      "    quoz = 0;\n",
      "    if(dividendo < divisore){\n",
      "        resto = dividendo;\n",
      "    }\n",
      "    else{\n",
      "        do{\n",
      "        dividendo = dividendo - divisore;\n",
      "        quoz++;\n",
      "        }while(dividendo >= divisore);\n",
      "        resto = dividendo;\n",
      "    }\n",
      "    return quoz + ' resto ' + resto;\n",
      "}"
     ],
     "language": "python",
     "metadata": {},
     "outputs": [],
     "prompt_number": 21
    },
    {
     "cell_type": "code",
     "collapsed": false,
     "input": [
      "div(6, 3);"
     ],
     "language": "python",
     "metadata": {},
     "outputs": [],
     "prompt_number": 22
    },
    {
     "cell_type": "markdown",
     "metadata": {},
     "source": [
      "### Ricorsivo"
     ]
    },
    {
     "cell_type": "code",
     "collapsed": false,
     "input": [
      "function divR(a, b){\n",
      "    if(a < b){\n",
      "        return ' resto ' + a;\n",
      "    }\n",
      "    else{\n",
      "        return 1 + divR(a-b, b);\n",
      "    }\n",
      "}"
     ],
     "language": "python",
     "metadata": {},
     "outputs": [],
     "prompt_number": 23
    },
    {
     "cell_type": "code",
     "collapsed": false,
     "input": [
      "divR(15, 3);"
     ],
     "language": "python",
     "metadata": {},
     "outputs": [],
     "prompt_number": 24
    },
    {
     "cell_type": "markdown",
     "metadata": {},
     "source": [
      "## Esercizio 7"
     ]
    },
    {
     "cell_type": "markdown",
     "metadata": {},
     "source": [
      "### Normale"
     ]
    },
    {
     "cell_type": "code",
     "collapsed": false,
     "input": [
      "function powE(a, b){\n",
      "    var risultato = 1;\n",
      "    for(i = 0; i < b; i++){\n",
      "        risultato = mult(risultato, a);\n",
      "    }\n",
      "    return risultato;\n",
      "}"
     ],
     "language": "python",
     "metadata": {},
     "outputs": [],
     "prompt_number": 25
    },
    {
     "cell_type": "code",
     "collapsed": false,
     "input": [
      "powE(2, 3);"
     ],
     "language": "python",
     "metadata": {},
     "outputs": [
      {
       "metadata": {},
       "output_type": "pyout",
       "prompt_number": 69,
       "text": [
        "2"
       ]
      }
     ],
     "prompt_number": 69
    },
    {
     "cell_type": "markdown",
     "metadata": {},
     "source": [
      "### Ricorsiva"
     ]
    },
    {
     "cell_type": "code",
     "collapsed": false,
     "input": [
      "function powR(a, b){\n",
      "    if( b == 0){\n",
      "        return 1;\n",
      "    }\n",
      "    else{\n",
      "        return (mult(a, powR(a, (b - 1))));\n",
      "    }\n",
      "}"
     ],
     "language": "python",
     "metadata": {},
     "outputs": [],
     "prompt_number": 27
    },
    {
     "cell_type": "code",
     "collapsed": false,
     "input": [
      "powR(9, 3);"
     ],
     "language": "python",
     "metadata": {},
     "outputs": [],
     "prompt_number": 28
    },
    {
     "cell_type": "markdown",
     "metadata": {},
     "source": [
      "## Esercizio 8"
     ]
    },
    {
     "cell_type": "markdown",
     "metadata": {},
     "source": [
      "### Normale"
     ]
    },
    {
     "cell_type": "code",
     "collapsed": false,
     "input": [
      "function matrix(myArray){\n",
      "    x = Math.sqrt(myArray.length);\n",
      "    y = 0;\n",
      "    newMatrix = new Array();\n",
      "    for(i = 0; i < x; i++){\n",
      "        for(j = 0; j < x; j++){\n",
      "            newMatrix[i][j] = myArray[y];\n",
      "            y++;\n",
      "        }\n",
      "    }\n",
      "    return newMatrix;\n",
      "}"
     ],
     "language": "python",
     "metadata": {},
     "outputs": [],
     "prompt_number": 29
    },
    {
     "cell_type": "code",
     "collapsed": false,
     "input": [
      "matrix([2, 3, 4, 5])"
     ],
     "language": "python",
     "metadata": {},
     "outputs": [],
     "prompt_number": 30
    },
    {
     "cell_type": "markdown",
     "metadata": {},
     "source": [
      "### Esercizio 9"
     ]
    },
    {
     "cell_type": "code",
     "collapsed": false,
     "input": [
      "function change(myArray){\n",
      "    newArray = [];\n",
      "    last = myArray.length-1;\n",
      "    for(i = 0; i < myArray.length; i++){\n",
      "        newArray[last] = myArray[i];\n",
      "        last--;\n",
      "    }\n",
      "    return newArray;\n",
      "}"
     ],
     "language": "python",
     "metadata": {},
     "outputs": [],
     "prompt_number": 31
    },
    {
     "cell_type": "code",
     "collapsed": false,
     "input": [
      "change([2, 3, 4, 5]);"
     ],
     "language": "python",
     "metadata": {},
     "outputs": [],
     "prompt_number": 32
    },
    {
     "cell_type": "markdown",
     "metadata": {},
     "source": [
      "## Esercizio 10"
     ]
    },
    {
     "cell_type": "markdown",
     "metadata": {},
     "source": [
      "### Normale"
     ]
    },
    {
     "cell_type": "code",
     "collapsed": false,
     "input": [
      "function replicate(a, b){\n",
      "    myArray = [];\n",
      "    for(i = 0; i < b; i++){\n",
      "        myArray[i] = a;\n",
      "    }\n",
      "    return myArray;\n",
      "}"
     ],
     "language": "python",
     "metadata": {},
     "outputs": [],
     "prompt_number": 33
    },
    {
     "cell_type": "code",
     "collapsed": false,
     "input": [
      "replicate(3, 4);"
     ],
     "language": "python",
     "metadata": {},
     "outputs": [],
     "prompt_number": 34
    },
    {
     "cell_type": "markdown",
     "metadata": {},
     "source": [
      "### Ricorsivo"
     ]
    },
    {
     "cell_type": "code",
     "collapsed": false,
     "input": [
      "function replicateR(a, b){\n",
      "    if(b == 0){\n",
      "        return '';\n",
      "    }\n",
      "    else{\n",
      "        return a + replicateR(a, b-1);\n",
      "    }\n",
      "}"
     ],
     "language": "python",
     "metadata": {},
     "outputs": [],
     "prompt_number": 35
    },
    {
     "cell_type": "code",
     "collapsed": false,
     "input": [
      "replicateR(3, 4);"
     ],
     "language": "python",
     "metadata": {},
     "outputs": [],
     "prompt_number": 36
    },
    {
     "cell_type": "markdown",
     "metadata": {},
     "source": [
      "## Esercizio 11"
     ]
    },
    {
     "cell_type": "markdown",
     "metadata": {},
     "source": [
      "### Normale"
     ]
    },
    {
     "cell_type": "code",
     "collapsed": false,
     "input": [
      "function changeOddFirst(myArray){\n",
      "    newArray = [];\n",
      "    last = myArray.length - 1;\n",
      "    first = 0;\n",
      "    for(i = 0; i < myArray.length; i++){\n",
      "        if(myArray[i] % 2 != 0){\n",
      "            newArray[first] = myArray[i];\n",
      "            first++;\n",
      "        }\n",
      "        else{\n",
      "            newArray[last] = myArray[i];\n",
      "            last--;\n",
      "        }\n",
      "    }\n",
      "    return newArray;\n",
      "}"
     ],
     "language": "python",
     "metadata": {},
     "outputs": [],
     "prompt_number": 37
    },
    {
     "cell_type": "code",
     "collapsed": false,
     "input": [
      "changeOddFirst([2, 5, 1, 8, 3, 9, 6]);"
     ],
     "language": "python",
     "metadata": {},
     "outputs": [],
     "prompt_number": 38
    },
    {
     "cell_type": "markdown",
     "metadata": {},
     "source": [
      "### Ricorsivo"
     ]
    },
    {
     "cell_type": "code",
     "collapsed": false,
     "input": [
      "function changeOddFirstR(myArray){\n",
      "    if(myArray.length == 0){\n",
      "        return '';\n",
      "    }\n",
      "    else{\n",
      "        if(myArray[0] % 2 != 0){\n",
      "            return myArray[0];\n",
      "        }\n",
      "    }\n",
      "}"
     ],
     "language": "python",
     "metadata": {},
     "outputs": [],
     "prompt_number": 39
    },
    {
     "cell_type": "code",
     "collapsed": false,
     "input": [
      "changeOddFirstR"
     ],
     "language": "python",
     "metadata": {},
     "outputs": [],
     "prompt_number": 40
    },
    {
     "cell_type": "code",
     "collapsed": false,
     "input": [
      "array.slice(2, 4);"
     ],
     "language": "python",
     "metadata": {},
     "outputs": [],
     "prompt_number": 41
    },
    {
     "cell_type": "code",
     "collapsed": false,
     "input": [
      "array;"
     ],
     "language": "python",
     "metadata": {},
     "outputs": [],
     "prompt_number": 42
    },
    {
     "cell_type": "code",
     "collapsed": false,
     "input": [
      "num = 9;"
     ],
     "language": "python",
     "metadata": {},
     "outputs": [],
     "prompt_number": 43
    },
    {
     "cell_type": "code",
     "collapsed": false,
     "input": [
      "num = Math.sqrt(9);"
     ],
     "language": "python",
     "metadata": {},
     "outputs": [],
     "prompt_number": 44
    },
    {
     "cell_type": "code",
     "collapsed": false,
     "input": [],
     "language": "python",
     "metadata": {},
     "outputs": [],
     "prompt_number": 45
    },
    {
     "cell_type": "code",
     "collapsed": false,
     "input": [],
     "language": "python",
     "metadata": {},
     "outputs": [],
     "prompt_number": 46
    },
    {
     "cell_type": "code",
     "collapsed": false,
     "input": [],
     "language": "python",
     "metadata": {},
     "outputs": [],
     "prompt_number": 47
    },
    {
     "cell_type": "code",
     "collapsed": false,
     "input": [],
     "language": "python",
     "metadata": {},
     "outputs": [],
     "prompt_number": 48
    },
    {
     "cell_type": "code",
     "collapsed": false,
     "input": [],
     "language": "python",
     "metadata": {},
     "outputs": [],
     "prompt_number": 49
    },
    {
     "cell_type": "code",
     "collapsed": false,
     "input": [],
     "language": "python",
     "metadata": {},
     "outputs": [],
     "prompt_number": 50
    },
    {
     "cell_type": "code",
     "collapsed": false,
     "input": [],
     "language": "python",
     "metadata": {},
     "outputs": [],
     "prompt_number": 51
    },
    {
     "cell_type": "code",
     "collapsed": false,
     "input": [],
     "language": "python",
     "metadata": {},
     "outputs": [],
     "prompt_number": 52
    },
    {
     "cell_type": "code",
     "collapsed": false,
     "input": [],
     "language": "python",
     "metadata": {},
     "outputs": [],
     "prompt_number": 53
    },
    {
     "cell_type": "code",
     "collapsed": false,
     "input": [],
     "language": "python",
     "metadata": {},
     "outputs": [],
     "prompt_number": 54
    },
    {
     "cell_type": "code",
     "collapsed": false,
     "input": [],
     "language": "python",
     "metadata": {},
     "outputs": [],
     "prompt_number": 55
    },
    {
     "cell_type": "code",
     "collapsed": false,
     "input": [],
     "language": "python",
     "metadata": {},
     "outputs": [],
     "prompt_number": 56
    },
    {
     "cell_type": "code",
     "collapsed": false,
     "input": [],
     "language": "python",
     "metadata": {},
     "outputs": [],
     "prompt_number": 57
    },
    {
     "cell_type": "code",
     "collapsed": false,
     "input": [],
     "language": "python",
     "metadata": {},
     "outputs": [],
     "prompt_number": 58
    },
    {
     "cell_type": "code",
     "collapsed": false,
     "input": [],
     "language": "python",
     "metadata": {},
     "outputs": [],
     "prompt_number": 59
    },
    {
     "cell_type": "code",
     "collapsed": false,
     "input": [],
     "language": "python",
     "metadata": {},
     "outputs": [],
     "prompt_number": 60
    },
    {
     "cell_type": "code",
     "collapsed": false,
     "input": [],
     "language": "python",
     "metadata": {},
     "outputs": [],
     "prompt_number": 61
    },
    {
     "cell_type": "code",
     "collapsed": false,
     "input": [],
     "language": "python",
     "metadata": {},
     "outputs": [],
     "prompt_number": 62
    },
    {
     "cell_type": "code",
     "collapsed": false,
     "input": [],
     "language": "python",
     "metadata": {},
     "outputs": [],
     "prompt_number": 63
    },
    {
     "cell_type": "code",
     "collapsed": false,
     "input": [],
     "language": "python",
     "metadata": {},
     "outputs": [],
     "prompt_number": 64
    },
    {
     "cell_type": "code",
     "collapsed": false,
     "input": [],
     "language": "python",
     "metadata": {},
     "outputs": [],
     "prompt_number": 65
    },
    {
     "cell_type": "code",
     "collapsed": false,
     "input": [],
     "language": "python",
     "metadata": {},
     "outputs": [],
     "prompt_number": 66
    },
    {
     "cell_type": "code",
     "collapsed": false,
     "input": [],
     "language": "python",
     "metadata": {},
     "outputs": [],
     "prompt_number": 67
    },
    {
     "cell_type": "code",
     "collapsed": false,
     "input": [],
     "language": "python",
     "metadata": {},
     "outputs": [
      {
       "metadata": {},
       "output_type": "pyout",
       "prompt_number": 68,
       "text": [
        "undefined"
       ]
      }
     ],
     "prompt_number": 68
    },
    {
     "cell_type": "code",
     "collapsed": false,
     "input": [],
     "language": "python",
     "metadata": {},
     "outputs": []
    }
   ],
   "metadata": {}
  }
 ]
}